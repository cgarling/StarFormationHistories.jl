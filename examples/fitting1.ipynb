{
 "cells": [
  {
   "cell_type": "code",
   "execution_count": 1,
   "id": "002cd541-3c41-446a-8092-f6a48de22ac5",
   "metadata": {
    "tags": []
   },
   "outputs": [],
   "source": [
    "import CSV\n",
    "import TypedTables: Table, columnnames"
   ]
  },
  {
   "cell_type": "markdown",
   "id": "affc1ba4-b8c1-43cc-9dfb-b3256faa5445",
   "metadata": {
    "tags": []
   },
   "source": [
    "Load the isochrone table using `CSV.read` into a `TypedTables.Table` structure. This contains an isochrone table from PARSEC that has 26 steps in [M/H] and 71 steps in `logAge=log10(age [yr])` for a total of 1846 unique isochrones."
   ]
  },
  {
   "cell_type": "code",
   "execution_count": 2,
   "id": "93643d0d-4f2e-40c3-b8b7-c8e81e4e5bf8",
   "metadata": {},
   "outputs": [
    {
     "data": {
      "text/plain": [
       "Table with 50 columns and 709192 rows:\n",
       "      Zini       MH        logAge  Mini      int_IMF  Mass   logL    logTe   ⋯\n",
       "    ┌─────────────────────────────────────────────────────────────────────────\n",
       " 1  │ 2.4652e-5  -2.19174  6.6     0.1       1.17111  0.1    -1.436  3.5769  ⋯\n",
       " 2  │ 2.4652e-5  -2.19174  6.6     0.105145  1.2127   0.105  -1.411  3.5791  ⋯\n",
       " 3  │ 2.4652e-5  -2.19174  6.6     0.109821  1.24828  0.109  -1.387  3.5809  ⋯\n",
       " 4  │ 2.4652e-5  -2.19174  6.6     0.124     1.34512  0.124  -1.321  3.5865  ⋯\n",
       " 5  │ 2.4652e-5  -2.19174  6.6     0.129464  1.37867  0.129  -1.298  3.5885  ⋯\n",
       " 6  │ 2.4652e-5  -2.19174  6.6     0.140418  1.4407   0.14   -1.252  3.5923  ⋯\n",
       " 7  │ 2.4652e-5  -2.19174  6.6     0.149107  1.4856   0.149  -1.219  3.595   ⋯\n",
       " 8  │ 2.4652e-5  -2.19174  6.6     0.183261  1.63379  0.182  -1.1    3.6048  ⋯\n",
       " 9  │ 2.4652e-5  -2.19174  6.6     0.197245  1.68445  0.196  -1.057  3.6085  ⋯\n",
       " 10 │ 2.4652e-5  -2.19174  6.6     0.207292  1.71805  0.206  -1.029  3.6111  ⋯\n",
       " 11 │ 2.4652e-5  -2.19174  6.6     0.210274  1.72762  0.209  -1.021  3.6119  ⋯\n",
       " 12 │ 2.4652e-5  -2.19174  6.6     0.225868  1.77492  0.225  -0.977  3.6159  ⋯\n",
       " 13 │ 2.4652e-5  -2.19174  6.6     0.246817  1.83218  0.246  -0.925  3.621   ⋯\n",
       " 14 │ 2.4652e-5  -2.19174  6.6     0.261505  1.86868  0.261  -0.893  3.6246  ⋯\n",
       " 15 │ 2.4652e-5  -2.19174  6.6     0.285683  1.92332  0.285  -0.84   3.6305  ⋯\n",
       " 16 │ 2.4652e-5  -2.19174  6.6     0.307343  1.96739  0.307  -0.796  3.6357  ⋯\n",
       " 17 │ 2.4652e-5  -2.19174  6.6     0.33773   2.02284  0.337  -0.737  3.6427  ⋯\n",
       " 18 │ 2.4652e-5  -2.19174  6.6     0.355357  2.05211  0.355  -0.705  3.6465  ⋯\n",
       " 19 │ 2.4652e-5  -2.19174  6.6     0.366732  2.07002  0.366  -0.685  3.6492  ⋯\n",
       " 20 │ 2.4652e-5  -2.19174  6.6     0.404464  2.12461  0.404  -0.62   3.6576  ⋯\n",
       " 21 │ 2.4652e-5  -2.19174  6.6     0.436853  2.16644  0.436  -0.569  3.6643  ⋯\n",
       " 22 │ 2.4652e-5  -2.19174  6.6     0.453571  2.18648  0.453  -0.544  3.6677  ⋯\n",
       " 23 │ 2.4652e-5  -2.19174  6.6     0.457007  2.19048  0.457  -0.539  3.6683  ⋯\n",
       " ⋮  │     ⋮         ⋮        ⋮        ⋮         ⋮       ⋮      ⋮       ⋮     ⋱"
      ]
     },
     "execution_count": 2,
     "metadata": {},
     "output_type": "execute_result"
    }
   ],
   "source": [
    "table = CSV.read(\"../../../../Work/Resources/isochrones/parsec/jwst/nircam_nov22/table.dat\", Table; comment=\"#\", delim=' ', ignorerepeated=true, \n",
    "    header=[\"Zini\", \"MH\", \"logAge\", \"Mini\", \"int_IMF\", \"Mass\", \"logL\", \"logTe\", \"logg\", \"label\", \"McoreTP\", \"C_O\", \"period0\", \"period1\", \"period2\", \n",
    "        \"period3\", \"period4\", \"pmode\", \"Mloss\", \"tau1m\", \"X\",  \"Y\", \"Xc\",  \"Xn\",  \"Xo\",  \"Cexcess\",  \"Z\", \"mbolmag\",  \"F070W\",  \"F090W\",  \"F115W\",  \n",
    "        \"F150W\",  \"F200W\",  \"F277W\",  \"F356W\",  \"F444W\",  \"F150W2\",  \"F322W2\",  \"F140M\",  \"F162M\",  \"F182M\",  \"F210M\",  \"F250M\",  \"F300M\",  \"F335M\",  \n",
    "        \"F360M\",  \"F410M\",  \"F430M\",  \"F460M\",  \"F480M\"])"
   ]
  },
  {
   "cell_type": "markdown",
   "id": "f4453708-dcec-4859-a337-8d1ee10da379",
   "metadata": {},
   "source": [
    "Check the available columns in the table"
   ]
  },
  {
   "cell_type": "code",
   "execution_count": 3,
   "id": "7b453c29-3569-4d6d-a121-3d87df302d1d",
   "metadata": {
    "tags": []
   },
   "outputs": [
    {
     "data": {
      "text/plain": [
       "(:Zini, :MH, :logAge, :Mini, :int_IMF, :Mass, :logL, :logTe, :logg, :label, :McoreTP, :C_O, :period0, :period1, :period2, :period3, :period4, :pmode, :Mloss, :tau1m, :X, :Y, :Xc, :Xn, :Xo, :Cexcess, :Z, :mbolmag, :F070W, :F090W, :F115W, :F150W, :F200W, :F277W, :F356W, :F444W, :F150W2, :F322W2, :F140M, :F162M, :F182M, :F210M, :F250M, :F300M, :F335M, :F360M, :F410M, :F430M, :F460M, :F480M)"
      ]
     },
     "execution_count": 3,
     "metadata": {},
     "output_type": "execute_result"
    }
   ],
   "source": [
    "columnnames(table)"
   ]
  },
  {
   "cell_type": "code",
   "execution_count": 4,
   "id": "d36ef094-3948-40be-9cec-1b8d1ddbacc8",
   "metadata": {
    "tags": []
   },
   "outputs": [
    {
     "data": {
      "text/plain": [
       "26-element Vector{Float64}:\n",
       " -2.19174\n",
       " -2.1\n",
       " -2.0\n",
       " -1.9\n",
       " -1.8\n",
       " -1.7\n",
       " -1.6\n",
       " -1.5\n",
       " -1.4\n",
       " -1.3\n",
       " -1.2\n",
       " -1.1\n",
       " -1.0\n",
       " -0.9\n",
       " -0.8\n",
       " -0.7\n",
       " -0.6\n",
       " -0.5\n",
       " -0.4\n",
       " -0.3\n",
       " -0.2\n",
       " -0.1\n",
       "  0.0\n",
       "  0.1\n",
       "  0.2\n",
       "  0.3"
      ]
     },
     "execution_count": 4,
     "metadata": {},
     "output_type": "execute_result"
    }
   ],
   "source": [
    "unique(table.MH) # These are metallicities, [M/H]"
   ]
  },
  {
   "cell_type": "code",
   "execution_count": 5,
   "id": "2122e389-f3c4-4d55-b4cd-009a7e56e69a",
   "metadata": {
    "tags": []
   },
   "outputs": [
    {
     "data": {
      "text/plain": [
       "71-element Vector{Float64}:\n",
       "  6.6\n",
       "  6.65\n",
       "  6.7\n",
       "  6.75\n",
       "  6.8\n",
       "  6.85\n",
       "  6.9\n",
       "  6.95\n",
       "  7.0\n",
       "  7.05\n",
       "  7.1\n",
       "  7.15\n",
       "  7.2\n",
       "  ⋮\n",
       "  9.55001\n",
       "  9.60001\n",
       "  9.65001\n",
       "  9.70001\n",
       "  9.75001\n",
       "  9.80001\n",
       "  9.85001\n",
       "  9.90001\n",
       "  9.95001\n",
       " 10.00001\n",
       " 10.05001\n",
       " 10.10001"
      ]
     },
     "execution_count": 5,
     "metadata": {},
     "output_type": "execute_result"
    }
   ],
   "source": [
    "unique(table.logAge) # These are `log10(age)`, where the age is in years."
   ]
  },
  {
   "cell_type": "markdown",
   "id": "32a19a5f-43bb-4744-b9be-195185940352",
   "metadata": {},
   "source": [
    "We'll construct a model Hess diagram from the populations in this isochrone table. First we need to set up our observational models for photometric error and incompleteness. You would typically measure these from artificial star tests but we'll make up some models here using functions built into StarFormationHistories.jl."
   ]
  },
  {
   "cell_type": "code",
   "execution_count": 6,
   "id": "1577b33d-fb20-40f2-b24d-9e2773bcc7d2",
   "metadata": {
    "tags": []
   },
   "outputs": [],
   "source": [
    "import StarFormationHistories: Martin2016_complete, exp_photerr"
   ]
  },
  {
   "cell_type": "code",
   "execution_count": 46,
   "id": "40c54453-9882-493d-ad23-5a3edac215f8",
   "metadata": {
    "tags": []
   },
   "outputs": [
    {
     "data": {
      "text/plain": [
       "F150W_error (generic function with 1 method)"
      ]
     },
     "execution_count": 46,
     "metadata": {},
     "output_type": "execute_result"
    }
   ],
   "source": [
    "distmod = 25.0 # Distance modulus \n",
    "F090W_complete(m) = Martin2016_complete(m,1.0,28.5,0.7)\n",
    "F150W_complete(m) = Martin2016_complete(m,1.0,27.5,0.7)\n",
    "F090W_error(m) = min( exp_photerr(m, 1.03, 15.0, 36.0, 0.02), 0.4 )\n",
    "F150W_error(m) = min( exp_photerr(m, 1.03, 15.0, 35.0, 0.02), 0.4 )"
   ]
  },
  {
   "cell_type": "markdown",
   "id": "c98e8a43-e6b6-4d39-acf9-c7904be3bf06",
   "metadata": {},
   "source": [
    "We'll make a few plots showing the adopted models. Below we set up PyPlot.jl (a wrapper for Python's matplotlib package)."
   ]
  },
  {
   "cell_type": "code",
   "execution_count": 40,
   "id": "f40a687d-fcbd-481d-8707-d107e7e96cf0",
   "metadata": {
    "tags": []
   },
   "outputs": [],
   "source": [
    "import PyPlot as plt\n",
    "import PyPlot: @L_str # For LatexStrings\n",
    "import PyCall: @pyimport\n",
    "plt.rc(\"text\", usetex=true)\n",
    "plt.rc(\"font\", family=\"serif\", serif=[\"Computer Modern\"], size=14)\n",
    "plt.rc(\"figure\", figsize=(5,5))\n",
    "plt.rc(\"patch\", linewidth=1, edgecolor=\"k\", force_edgecolor=true) "
   ]
  },
  {
   "cell_type": "code",
   "execution_count": 48,
   "id": "6a4b1a66-34cf-495e-8e9a-101edb617d3f",
   "metadata": {
    "tags": []
   },
   "outputs": [
    {
     "data": {
      "image/png": "[encoded data removed]",
      "text/plain": [
       "PyPlot.Figure(PyObject <Figure size 500x500 with 1 Axes>)"
      ]
     },
     "metadata": {},
     "output_type": "display_data"
    },
    {
     "data": {
      "image/png": "[encoded data removed]",
      "text/plain": [
       "PyPlot.Figure(PyObject <Figure size 500x500 with 1 Axes>)"
      ]
     },
     "metadata": {},
     "output_type": "display_data"
    },
    {
     "data": {
      "text/plain": [
       "(0.0, 0.41895850114873723)"
      ]
     },
     "execution_count": 48,
     "metadata": {},
     "output_type": "execute_result"
    }
   ],
   "source": [
    "plotmags=20.0:0.05:33.0\n",
    "\n",
    "fig,ax1=plt.subplots()\n",
    "ax1.plot(plotmags,F090W_complete.(plotmags),label=\"F090W\")\n",
    "ax1.plot(plotmags,F150W_complete.(plotmags),label=\"F150W\")\n",
    "ax1.set_xlabel(\"Apparent Magnitude\")\n",
    "ax1.set_ylabel(\"Completeness\")\n",
    "ax1.legend(loc=\"lower left\")\n",
    "\n",
    "plotmags=20.0:0.05:33.0\n",
    "fig,ax1=plt.subplots()\n",
    "ax1.plot(plotmags,F090W_error.(plotmags),label=\"F090W\")\n",
    "ax1.plot(plotmags,F150W_error.(plotmags),label=\"F150W\")\n",
    "ax1.set_xlabel(\"Apparent Magnitude\")\n",
    "ax1.set_ylabel(\"Photometric Error\")\n",
    "ax1.legend(loc=\"upper left\")\n",
    "ax1.set_ylim([0.0,ax1.get_ylim()[2]])"
   ]
  },
  {
   "cell_type": "markdown",
   "id": "828b9bf7-4502-474b-9cab-1ab877bb63b8",
   "metadata": {},
   "source": [
    "We put a maximum on the magnitude error in the model because most of the time one would place a cut on the photometric catalog in either signal to noise (e.g., SNR>5) or magnitude error (e.g., error < 0.4). From a practical perspective, if we allow the photometric error model to grow too large, it will hurt the efficiency of `partial_cmd_smooth` for template creation later."
   ]
  },
  {
   "cell_type": "markdown",
   "id": "6af00e21-3a97-4bc1-ad61-4138ca22d67d",
   "metadata": {},
   "source": [
    "We may now define our mock star formation history. We will use `partial_cmd_smooth` to construct the templates for a Hess diagram model with F150W on the y-axis and F090W-F150W on the x-axis, with an initial mass function model from InitialMassFunctions.jl. We'll construct all 1846 templates, one for every isochrone in our table, but this may not always be necessary."
   ]
  },
  {
   "cell_type": "code",
   "execution_count": 49,
   "id": "b483e8fe-724d-4dc2-b648-c476ec4356f4",
   "metadata": {
    "tags": []
   },
   "outputs": [],
   "source": [
    "import StarFormationHistories: partial_cmd_smooth\n",
    "import InitialMassFunctions: Kroupa2001"
   ]
  },
  {
   "cell_type": "code",
   "execution_count": 50,
   "id": "b79bdea6-d984-4457-8510-e93584b9d3d7",
   "metadata": {
    "tags": []
   },
   "outputs": [
    {
     "data": {
      "text/plain": [
       "(-0.5:0.021212121212121213:1.6, 17.0:0.1111111111111111:28.0)"
      ]
     },
     "execution_count": 50,
     "metadata": {},
     "output_type": "execute_result"
    }
   ],
   "source": [
    "# Some additional setup\n",
    "imf = Kroupa2001(0.08, 100.0) # Initial mass function model\n",
    "unique_logAge = unique(table.logAge)\n",
    "unique_MH = unique(table.MH)\n",
    "template_norm = 1e3 # The stellar mass of the populations in each template\n",
    "edges = (range(-0.5, 1.6, length=100), range(17.0, 28.0, length=100)) # The bin edges for the Hess diagrams"
   ]
  },
  {
   "cell_type": "code",
   "execution_count": 51,
   "id": "912a394f-be4a-41e9-af43-2071cc96b14e",
   "metadata": {
    "tags": []
   },
   "outputs": [],
   "source": [
    "# Constructing the templates\n",
    "templates = Vector{Matrix{Float64}}(undef,0)\n",
    "template_logAge = Vector{Float64}(undef,0)\n",
    "template_MH = Vector{Float64}(undef,0)\n",
    "for logage in unique_logAge \n",
    "    for mh in unique_MH\n",
    "        # Combination of a logage and an MH defines a unique isochrone.\n",
    "        # Pick out all entries in `table` that match this combination; these will be row indices\n",
    "        # into the table of the stars in this specific isochrone.\n",
    "        local good = findall( (table.MH .== mh) .& (table.logAge .== logage) )\n",
    "        # Chop off the last entry in the isochrone because its the 30 mag weird thing that parsec does.\n",
    "        local m_ini = table.Mini[good][begin:end-1] # These are the initial masses of the stars in the isochrone, in solar masses.\n",
    "        local iso_mags = [table.F090W[good][begin:end-1], table.F150W[good][begin:end-1]] # These are the absolute magnitudes we want from the isochrone.\n",
    "        push!(templates, partial_cmd_smooth( m_ini, iso_mags, [F090W_error, F150W_error], 2, [1,2], imf, [F090W_complete, F150W_complete]; \n",
    "                dmod=distmod, normalize_value=template_norm, edges=edges).weights )\n",
    "        push!(template_logAge, logage)\n",
    "        push!(template_MH, mh)\n",
    "    end\n",
    "end"
   ]
  },
  {
   "cell_type": "code",
   "execution_count": 52,
   "id": "c7993fed-6e57-46b9-a8bc-8aa88a889e52",
   "metadata": {
    "tags": []
   },
   "outputs": [
    {
     "data": {
      "text/plain": [
       "1846-element Vector{Matrix{Float64}}:\n",
       " [0.0 5.308707755624576e-10 … 0.0 0.0; 6.906811253133398e-14 1.5108610725823887e-8 … 0.0 0.0; … ; 0.0 0.0 … 0.0 0.0; 0.0 0.0 … 0.0 0.0]\n",
       " [0.0 0.0 … 0.0 0.0; 0.0 0.0 … 0.0 0.0; … ; 0.0 0.0 … 0.0 0.0; 0.0 0.0 … 0.0 0.0]\n",
       " [0.0 0.0 … 0.0 0.0; 0.0 0.0 … 0.0 0.0; … ; 0.0 0.0 … 0.0 0.0; 0.0 0.0 … 0.0 0.0]\n",
       " [0.0 0.0 … 0.0 0.0; 0.0 0.0 … 0.0 0.0; … ; 0.0 0.0 … 0.0 0.0; 0.0 0.0 … 0.0 0.0]\n",
       " [0.0 0.0 … 0.0 0.0; 0.0 0.0 … 0.0 0.0; … ; 0.0 0.0 … 0.0 0.0; 0.0 0.0 … 0.0 0.0]\n",
       " [0.0 0.0 … 0.0 0.0; 0.0 0.0 … 0.0 0.0; … ; 0.0 0.0 … 0.0 0.0; 0.0 0.0 … 0.0 0.0]\n",
       " [0.0 0.0 … 0.0 0.0; 0.0 0.0 … 0.0 0.0; … ; 0.0 0.0 … 0.0 0.0; 0.0 0.0 … 0.0 0.0]\n",
       " [0.0 0.0 … 0.0 0.0; 0.0 0.0 … 0.0 0.0; … ; 0.0 0.0 … 0.0 0.0; 0.0 0.0 … 0.0 0.0]\n",
       " [0.0 0.0 … 0.0 0.0; 0.0 0.0 … 0.0 0.0; … ; 0.0 0.0 … 0.0 0.0; 0.0 0.0 … 0.0 0.0]\n",
       " [0.0 0.0 … 0.0 0.0; 0.0 0.0 … 0.0 0.0; … ; 0.0 0.0 … 0.0 0.0; 0.0 0.0 … 0.0 0.0]\n",
       " [0.0 0.0 … 0.0 0.0; 0.0 0.0 … 0.0 0.0; … ; 0.0 0.0 … 0.0 0.0; 0.0 0.0 … 0.0 0.0]\n",
       " [0.0 0.0 … 0.0 0.0; 0.0 0.0 … 0.0 0.0; … ; 0.0 0.0 … 0.0 0.0; 0.0 0.0 … 0.0 0.0]\n",
       " [0.0 0.0 … 0.0 0.0; 0.0 0.0 … 0.0 0.0; … ; 0.0 0.0 … 0.0 0.0; 0.0 0.0 … 0.0 0.0]\n",
       " ⋮\n",
       " [0.0 0.0 … 0.0 0.0; 0.0 0.0 … 0.0 0.0; … ; 0.0 0.0 … 0.0 0.0; 0.0 0.0 … 0.0 0.0]\n",
       " [0.0 0.0 … 0.0 0.0; 0.0 0.0 … 0.0 0.0; … ; 0.0 0.0 … 0.0 0.0; 0.0 0.0 … 0.0 0.0]\n",
       " [0.0 0.0 … 0.0 0.0; 0.0 0.0 … 0.0 0.0; … ; 0.0 0.0 … 0.0 0.0; 0.0 0.0 … 0.0 0.0]\n",
       " [0.0 0.0 … 0.0 0.0; 0.0 0.0 … 0.0 0.0; … ; 0.0 0.0 … 0.0 0.0; 0.0 0.0 … 0.0 0.0]\n",
       " [0.0 0.0 … 0.0 0.0; 0.0 0.0 … 0.0 0.0; … ; 0.0 0.0 … 0.0 0.0; 0.0 0.0 … 0.0 0.0]\n",
       " [0.0 0.0 … 0.0 0.0; 0.0 0.0 … 0.0 0.0; … ; 0.0 0.0 … 0.0 0.0; 0.0 0.0 … 0.0 0.0]\n",
       " [0.0 0.0 … 0.0 0.0; 0.0 0.0 … 0.0 0.0; … ; 0.0 0.0 … 0.0 0.0; 0.0 0.0 … 0.0 0.0]\n",
       " [0.0 0.0 … 0.0 0.0; 0.0 0.0 … 0.0 0.0; … ; 0.0 0.0 … 0.0 0.0; 0.0 0.0 … 0.0 0.0]\n",
       " [0.0 0.0 … 0.0 0.0; 0.0 0.0 … 0.0 0.0; … ; 0.0 0.0 … 0.0 0.0; 0.0 0.0 … 0.0 0.0]\n",
       " [0.0 0.0 … 0.0 0.0; 0.0 0.0 … 0.0 0.0; … ; 0.0 0.0 … 0.0 0.0; 0.0 0.0 … 0.0 0.0]\n",
       " [0.0 0.0 … 0.0 0.0; 0.0 0.0 … 0.0 0.0; … ; 0.0 0.0 … 0.0 0.0; 0.0 0.0 … 0.0 0.0]\n",
       " [0.0 0.0 … 0.0 0.0; 0.0 0.0 … 0.0 0.0; … ; 0.0 0.0 … 0.0 0.0; 0.0 0.0 … 0.0 0.0]"
      ]
     },
     "execution_count": 52,
     "metadata": {},
     "output_type": "execute_result"
    }
   ],
   "source": [
    "# Sort the template_logAge and template_MH so we have a guarantee for later\n",
    "permidx = sortperm(template_logAge)\n",
    "template_logAge = template_logAge[permidx]\n",
    "template_MH = template_MH[permidx]\n",
    "templates = templates[permidx]"
   ]
  },
  {
   "cell_type": "markdown",
   "id": "20dcd127-b83b-4829-bcac-d52b960fa9f5",
   "metadata": {},
   "source": [
    "We'll plot a few templates for reference."
   ]
  },
  {
   "cell_type": "code",
   "execution_count": 124,
   "id": "4eb63679-b3d4-42ae-a449-ae7e36af0638",
   "metadata": {
    "tags": []
   },
   "outputs": [
    {
     "data": {
      "image/png": "[encoded data removed]",
      "text/plain": [
       "PyPlot.Figure(PyObject <Figure size 1500x500 with 3 Axes>)"
      ]
     },
     "metadata": {},
     "output_type": "display_data"
    },
    {
     "data": {
      "text/plain": [
       "(-0.5, 1.6)"
      ]
     },
     "execution_count": 124,
     "metadata": {},
     "output_type": "execute_result"
    }
   ],
   "source": [
    "fig,axs=plt.subplots(1,3,sharey=true,figsize=(15,5))\n",
    "fig.subplots_adjust(hspace=0.0,wspace=0.0)\n",
    "\n",
    "axs[1].imshow(templates[100]', origin=\"lower\", \n",
    "    extent=(extrema(edges[1])..., extrema(edges[2])...), \n",
    "    aspect=\"auto\", cmap=\"Greys\", norm=plt.matplotlib.colors.LogNorm(vmin=0.0005), rasterized=true) \n",
    "axs[2].imshow(templates[1500]', origin=\"lower\", \n",
    "    extent=(extrema(edges[1])..., extrema(edges[2])...), \n",
    "    aspect=\"auto\", cmap=\"Greys\", norm=plt.matplotlib.colors.LogNorm(vmin=0.0005), rasterized=true) \n",
    "axs[3].imshow(templates[1800]', origin=\"lower\", \n",
    "    extent=(extrema(edges[1])..., extrema(edges[2])...), \n",
    "    aspect=\"auto\", cmap=\"Greys\", norm=plt.matplotlib.colors.LogNorm(vmin=0.0005), rasterized=true) \n",
    "# im1.set_clim( [0.5, im1.get_clim()[2]] )\n",
    "axs[1].set_xlabel(L\"F090W$-$F150W\")\n",
    "axs[2].set_xlabel(L\"F090W$-$F150W\")\n",
    "axs[3].set_xlabel(L\"F090W$-$F150W\")\n",
    "axs[1].set_ylabel(\"F150W\")\n",
    "axs[1].set_ylim(reverse(extrema(edges[2]))) \n",
    "axs[1].set_xlim(extrema(edges[1]))"
   ]
  },
  {
   "cell_type": "markdown",
   "id": "195fa6ee-6810-4ea1-8391-15bf967eac30",
   "metadata": {},
   "source": [
    "We may now use `construct_x0_mdf` and `calculate_coeffs_mdf` to create a mock star formation history with constant star formation rate and a reasonable metallicity evolution for a dwarf galaxy. "
   ]
  },
  {
   "cell_type": "code",
   "execution_count": 125,
   "id": "b9922650-38c6-45ce-b64c-8acf60deb156",
   "metadata": {
    "tags": []
   },
   "outputs": [],
   "source": [
    "import StarFormationHistories: construct_x0_mdf, calculate_coeffs_mdf"
   ]
  },
  {
   "cell_type": "code",
   "execution_count": null,
   "id": "6052ae80-5598-4640-82e8-1999ddd817e1",
   "metadata": {},
   "outputs": [],
   "source": []
  }
 ],
 "metadata": {
  "kernelspec": {
   "display_name": "Julia 1.7.3",
   "language": "julia",
   "name": "julia-1.7"
  },
  "language_info": {
   "file_extension": ".jl",
   "mimetype": "application/julia",
   "name": "julia",
   "version": "1.7.3"
  }
 },
 "nbformat": 4,
 "nbformat_minor": 5
}
