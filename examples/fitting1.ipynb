{
 "cells": [
  {
   "cell_type": "code",
   "execution_count": 4,
   "id": "002cd541-3c41-446a-8092-f6a48de22ac5",
   "metadata": {
    "tags": []
   },
   "outputs": [],
   "source": [
    "import CSV\n",
    "import TypedTables: Table, columnnames"
   ]
  },
  {
   "cell_type": "markdown",
   "id": "affc1ba4-b8c1-43cc-9dfb-b3256faa5445",
   "metadata": {},
   "source": [
    "Load the isochrone table using CSV.read. This contains an isochrone table from PARSEC that has 26 steps in [M/H] and 71 steps in `logAge=log10(age [yr])`. "
   ]
  },
  {
   "cell_type": "code",
   "execution_count": 6,
   "id": "93643d0d-4f2e-40c3-b8b7-c8e81e4e5bf8",
   "metadata": {},
   "outputs": [
    {
     "data": {
      "text/plain": [
       "Table with 50 columns and 709192 rows:\n",
       "      Zini       MH        logAge  Mini      int_IMF  Mass   logL    logTe   ⋯\n",
       "    ┌─────────────────────────────────────────────────────────────────────────\n",
       " 1  │ 2.4652e-5  -2.19174  6.6     0.1       1.17111  0.1    -1.436  3.5769  ⋯\n",
       " 2  │ 2.4652e-5  -2.19174  6.6     0.105145  1.2127   0.105  -1.411  3.5791  ⋯\n",
       " 3  │ 2.4652e-5  -2.19174  6.6     0.109821  1.24828  0.109  -1.387  3.5809  ⋯\n",
       " 4  │ 2.4652e-5  -2.19174  6.6     0.124     1.34512  0.124  -1.321  3.5865  ⋯\n",
       " 5  │ 2.4652e-5  -2.19174  6.6     0.129464  1.37867  0.129  -1.298  3.5885  ⋯\n",
       " 6  │ 2.4652e-5  -2.19174  6.6     0.140418  1.4407   0.14   -1.252  3.5923  ⋯\n",
       " 7  │ 2.4652e-5  -2.19174  6.6     0.149107  1.4856   0.149  -1.219  3.595   ⋯\n",
       " 8  │ 2.4652e-5  -2.19174  6.6     0.183261  1.63379  0.182  -1.1    3.6048  ⋯\n",
       " 9  │ 2.4652e-5  -2.19174  6.6     0.197245  1.68445  0.196  -1.057  3.6085  ⋯\n",
       " 10 │ 2.4652e-5  -2.19174  6.6     0.207292  1.71805  0.206  -1.029  3.6111  ⋯\n",
       " 11 │ 2.4652e-5  -2.19174  6.6     0.210274  1.72762  0.209  -1.021  3.6119  ⋯\n",
       " 12 │ 2.4652e-5  -2.19174  6.6     0.225868  1.77492  0.225  -0.977  3.6159  ⋯\n",
       " 13 │ 2.4652e-5  -2.19174  6.6     0.246817  1.83218  0.246  -0.925  3.621   ⋯\n",
       " 14 │ 2.4652e-5  -2.19174  6.6     0.261505  1.86868  0.261  -0.893  3.6246  ⋯\n",
       " 15 │ 2.4652e-5  -2.19174  6.6     0.285683  1.92332  0.285  -0.84   3.6305  ⋯\n",
       " 16 │ 2.4652e-5  -2.19174  6.6     0.307343  1.96739  0.307  -0.796  3.6357  ⋯\n",
       " 17 │ 2.4652e-5  -2.19174  6.6     0.33773   2.02284  0.337  -0.737  3.6427  ⋯\n",
       " 18 │ 2.4652e-5  -2.19174  6.6     0.355357  2.05211  0.355  -0.705  3.6465  ⋯\n",
       " 19 │ 2.4652e-5  -2.19174  6.6     0.366732  2.07002  0.366  -0.685  3.6492  ⋯\n",
       " 20 │ 2.4652e-5  -2.19174  6.6     0.404464  2.12461  0.404  -0.62   3.6576  ⋯\n",
       " 21 │ 2.4652e-5  -2.19174  6.6     0.436853  2.16644  0.436  -0.569  3.6643  ⋯\n",
       " 22 │ 2.4652e-5  -2.19174  6.6     0.453571  2.18648  0.453  -0.544  3.6677  ⋯\n",
       " 23 │ 2.4652e-5  -2.19174  6.6     0.457007  2.19048  0.457  -0.539  3.6683  ⋯\n",
       " ⋮  │     ⋮         ⋮        ⋮        ⋮         ⋮       ⋮      ⋮       ⋮     ⋱"
      ]
     },
     "execution_count": 6,
     "metadata": {},
     "output_type": "execute_result"
    }
   ],
   "source": [
    "table = CSV.read(\"../../../../Work/Resources/isochrones/parsec/jwst/nircam_nov22/table.dat\", Table; comment=\"#\", delim=' ', ignorerepeated=true, header=[\"Zini\", \"MH\", \"logAge\", \"Mini\", \"int_IMF\", \"Mass\", \"logL\", \"logTe\", \"logg\", \"label\", \"McoreTP\", \"C_O\", \"period0\", \"period1\", \"period2\", \"period3\", \"period4\", \"pmode\", \"Mloss\", \"tau1m\", \"X\",  \"Y\", \"Xc\",  \"Xn\",  \"Xo\",  \"Cexcess\",  \"Z\", \"mbolmag\",  \"F070W\",  \"F090W\",  \"F115W\",  \"F150W\",  \"F200W\",  \"F277W\",  \"F356W\",  \"F444W\",  \"F150W2\",  \"F322W2\",  \"F140M\",  \"F162M\",  \"F182M\",  \"F210M\",  \"F250M\",  \"F300M\",  \"F335M\",  \"F360M\",  \"F410M\",  \"F430M\",  \"F460M\",  \"F480M\"])"
   ]
  },
  {
   "cell_type": "markdown",
   "id": "f4453708-dcec-4859-a337-8d1ee10da379",
   "metadata": {},
   "source": [
    "Check the available columns in the table"
   ]
  },
  {
   "cell_type": "code",
   "execution_count": 9,
   "id": "7b453c29-3569-4d6d-a121-3d87df302d1d",
   "metadata": {
    "tags": []
   },
   "outputs": [
    {
     "data": {
      "text/plain": [
       "(:Zini, :MH, :logAge, :Mini, :int_IMF, :Mass, :logL, :logTe, :logg, :label, :McoreTP, :C_O, :period0, :period1, :period2, :period3, :period4, :pmode, :Mloss, :tau1m, :X, :Y, :Xc, :Xn, :Xo, :Cexcess, :Z, :mbolmag, :F070W, :F090W, :F115W, :F150W, :F200W, :F277W, :F356W, :F444W, :F150W2, :F322W2, :F140M, :F162M, :F182M, :F210M, :F250M, :F300M, :F335M, :F360M, :F410M, :F430M, :F460M, :F480M)"
      ]
     },
     "execution_count": 9,
     "metadata": {},
     "output_type": "execute_result"
    }
   ],
   "source": [
    "columnnames(table)"
   ]
  },
  {
   "cell_type": "code",
   "execution_count": 7,
   "id": "d36ef094-3948-40be-9cec-1b8d1ddbacc8",
   "metadata": {
    "tags": []
   },
   "outputs": [
    {
     "data": {
      "text/plain": [
       "26-element Vector{Float64}:\n",
       " -2.19174\n",
       " -2.1\n",
       " -2.0\n",
       " -1.9\n",
       " -1.8\n",
       " -1.7\n",
       " -1.6\n",
       " -1.5\n",
       " -1.4\n",
       " -1.3\n",
       " -1.2\n",
       " -1.1\n",
       " -1.0\n",
       " -0.9\n",
       " -0.8\n",
       " -0.7\n",
       " -0.6\n",
       " -0.5\n",
       " -0.4\n",
       " -0.3\n",
       " -0.2\n",
       " -0.1\n",
       "  0.0\n",
       "  0.1\n",
       "  0.2\n",
       "  0.3"
      ]
     },
     "execution_count": 7,
     "metadata": {},
     "output_type": "execute_result"
    }
   ],
   "source": [
    "unique(table.MH)"
   ]
  },
  {
   "cell_type": "code",
   "execution_count": 8,
   "id": "2122e389-f3c4-4d55-b4cd-009a7e56e69a",
   "metadata": {
    "tags": []
   },
   "outputs": [
    {
     "data": {
      "text/plain": [
       "71-element Vector{Float64}:\n",
       "  6.6\n",
       "  6.65\n",
       "  6.7\n",
       "  6.75\n",
       "  6.8\n",
       "  6.85\n",
       "  6.9\n",
       "  6.95\n",
       "  7.0\n",
       "  7.05\n",
       "  7.1\n",
       "  7.15\n",
       "  7.2\n",
       "  ⋮\n",
       "  9.55001\n",
       "  9.60001\n",
       "  9.65001\n",
       "  9.70001\n",
       "  9.75001\n",
       "  9.80001\n",
       "  9.85001\n",
       "  9.90001\n",
       "  9.95001\n",
       " 10.00001\n",
       " 10.05001\n",
       " 10.10001"
      ]
     },
     "execution_count": 8,
     "metadata": {},
     "output_type": "execute_result"
    }
   ],
   "source": [
    "unique(table.logAge)"
   ]
  }
 ],
 "metadata": {
  "kernelspec": {
   "display_name": "Julia 1.7.3",
   "language": "julia",
   "name": "julia-1.7"
  },
  "language_info": {
   "file_extension": ".jl",
   "mimetype": "application/julia",
   "name": "julia",
   "version": "1.7.3"
  }
 },
 "nbformat": 4,
 "nbformat_minor": 5
}
